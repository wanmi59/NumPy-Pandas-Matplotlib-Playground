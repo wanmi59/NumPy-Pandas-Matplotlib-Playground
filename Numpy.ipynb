{
 "cells": [
  {
   "cell_type": "markdown",
   "metadata": {},
   "source": [
    "###### Importing Numpy"
   ]
  },
  {
   "cell_type": "code",
   "execution_count": 1,
   "metadata": {},
   "outputs": [],
   "source": [
    "import numpy as np"
   ]
  },
  {
   "cell_type": "markdown",
   "metadata": {},
   "source": [
    "### Array Creation\n",
    "There are several ways to create arrays:\n",
    "* You can create an array from Python list\n",
    "* The other is from Python tuple"
   ]
  },
  {
   "cell_type": "code",
   "execution_count": 2,
   "metadata": {},
   "outputs": [
    {
     "data": {
      "text/plain": [
       "array([[6.92691742e-310, 6.92691742e-310, 6.92691757e-310],\n",
       "       [6.92691763e-310, 6.92691760e-310, 6.92691755e-310],\n",
       "       [6.92691761e-310, 6.92691760e-310, 4.65248671e-310]])"
      ]
     },
     "execution_count": 2,
     "metadata": {},
     "output_type": "execute_result"
    }
   ],
   "source": [
    "#One dimensional array\n",
    "np.array([1, 2, 3, 4])  \n",
    "\n",
    "# WRONG: np.array(1, 2, 3, 4)\n",
    "\n",
    "#Two dimensional array\n",
    "np.array([[1, 0, 0], [0, 1, 2]])  \n",
    "\n",
    "#NOTE: There are two square brackets at opening and closing of nested list\n",
    "#WRONG: np.array([1, 0, 0], [0, 1, 2])\n",
    "\n",
    "    \n",
    "#Using zeros, ones and empty\n",
    "np.zeros((3,4)) #creates an array of zeros\n",
    "\n",
    "np.ones((2, 4)) #creates an array of ones\n",
    "\n",
    "np.empty((3, 3)) #creates an array whose initial content is random\n"
   ]
  },
  {
   "cell_type": "markdown",
   "metadata": {},
   "source": [
    "### Create arrays using arange\n",
    "* arange: creates an array consisting of a sequence of numbers\n",
    "\n",
    "*__arange takes step in it's arguments while linspace takes the number of elements in it's arguments__*"
   ]
  },
  {
   "cell_type": "code",
   "execution_count": 15,
   "metadata": {},
   "outputs": [
    {
     "data": {
      "text/plain": [
       "array([[10, 15],\n",
       "       [20, 25],\n",
       "       [30, 35],\n",
       "       [40, 45]])"
      ]
     },
     "execution_count": 15,
     "metadata": {},
     "output_type": "execute_result"
    }
   ],
   "source": [
    "#One dimensional\n",
    "np.arange(10) \n",
    "\n",
    "#OUTPUT: [0, 1, 2, 3, 4, 5, 6, 7, 8, 9]\n",
    "\n",
    "np.arange(2, 6)\n",
    "\n",
    "#OUTPUT: [2, 3, 4, 5]\n",
    "\n",
    "np.arange(10, 50, 5)\n",
    "\n",
    "#OUTPUT: [10, 15, 20, 25, 30, 35, 40, 45] ***arange takes a step of 5.\n",
    "\n",
    "np.arange(0, 10, 3)\n",
    "\n",
    "#OUTPUT: [0, 3, 6, 9] ***arange takes a step of 3\n",
    "\n",
    "#Two dimensional\n",
    "np.arange(12).reshape(3, 4) \n",
    "\n",
    "np.arange(10, 50, 5).reshape(4, 2)\n"
   ]
  },
  {
   "cell_type": "markdown",
   "metadata": {},
   "source": [
    "### Create arrays using linspace\n",
    "* linspace: creates an array consisting of a sequence of numbers similar to arange\n",
    "\n",
    "*__linspace takes number of elements in it's arguments instead of step like arange__*"
   ]
  },
  {
   "cell_type": "code",
   "execution_count": 22,
   "metadata": {},
   "outputs": [
    {
     "data": {
      "text/plain": [
       "array([[10., 20.],\n",
       "       [30., 40.]])"
      ]
     },
     "execution_count": 22,
     "metadata": {},
     "output_type": "execute_result"
    }
   ],
   "source": [
    "#One dimensional\n",
    "np.linspace(10, 500) \n",
    "\n",
    "#OUTPUT: [10, 20, 30, ... 480, 490, 500]\n",
    "\n",
    "np.linspace(10, 500, 5)\n",
    "\n",
    "#OUTPUT: [10., 132.5, 255., 377.5, 500.] ***By default no of elements is 50\n",
    "\n",
    "#Two dimensional\n",
    "np.linspace(10, 40, 4).reshape(2, 2)\n"
   ]
  },
  {
   "cell_type": "markdown",
   "metadata": {},
   "source": [
    "### Basic Operations"
   ]
  },
  {
   "cell_type": "code",
   "execution_count": 45,
   "metadata": {},
   "outputs": [
    {
     "name": "stdout",
     "output_type": "stream",
     "text": [
      "A\n",
      " [[0 1 2]\n",
      " [3 4 5]\n",
      " [6 7 8]]\n",
      "B\n",
      " [[10. 11. 12.]\n",
      " [13. 14. 15.]\n",
      " [16. 17. 18.]]\n"
     ]
    }
   ],
   "source": [
    "a = np.arange(9).reshape(3, 3)\n",
    "print('A\\n', a)\n",
    "b = np.arange(10,19, dtype=float).reshape(3, 3)\n",
    "print('B\\n', b)"
   ]
  },
  {
   "cell_type": "code",
   "execution_count": 48,
   "metadata": {},
   "outputs": [
    {
     "ename": "UFuncTypeError",
     "evalue": "Cannot cast ufunc 'add' output from dtype('float64') to dtype('int64') with casting rule 'same_kind'",
     "output_type": "error",
     "traceback": [
      "\u001b[0;31m---------------------------------------------------------------------------\u001b[0m",
      "\u001b[0;31mUFuncTypeError\u001b[0m                            Traceback (most recent call last)",
      "\u001b[0;32m<ipython-input-48-0a761da17ebf>\u001b[0m in \u001b[0;36m<module>\u001b[0;34m\u001b[0m\n\u001b[1;32m     18\u001b[0m \u001b[0;34m\u001b[0m\u001b[0m\n\u001b[1;32m     19\u001b[0m \u001b[0mb\u001b[0m \u001b[0;34m+=\u001b[0m \u001b[0ma\u001b[0m\u001b[0;34m\u001b[0m\u001b[0;34m\u001b[0m\u001b[0m\n\u001b[0;32m---> 20\u001b[0;31m \u001b[0ma\u001b[0m \u001b[0;34m+=\u001b[0m \u001b[0mb\u001b[0m\u001b[0;34m\u001b[0m\u001b[0;34m\u001b[0m\u001b[0m\n\u001b[0m",
      "\u001b[0;31mUFuncTypeError\u001b[0m: Cannot cast ufunc 'add' output from dtype('float64') to dtype('int64') with casting rule 'same_kind'"
     ]
    }
   ],
   "source": [
    "#Addition\n",
    "addition = a + b\n",
    "\n",
    "#Subtraction\n",
    "subtraction = b - a\n",
    "\n",
    "#Division\n",
    "division = a/2\n",
    "\n",
    "#Elementwise Multiplication\n",
    "multiplication = a * b\n",
    "\n",
    "#Matrix multiplication\n",
    "product = a @ b\n",
    "\n",
    "#Exponent\n",
    "exponent = a**2\n",
    "\n",
    "b += a\n",
    "# a += b #Not valid since int cannot store floating point numbers"
   ]
  },
  {
   "cell_type": "code",
   "execution_count": 58,
   "metadata": {},
   "outputs": [
    {
     "data": {
      "text/plain": [
       "array([[0, 1, 2],\n",
       "       [3, 4, 5],\n",
       "       [6, 7, 8]])"
      ]
     },
     "execution_count": 58,
     "metadata": {},
     "output_type": "execute_result"
    }
   ],
   "source": [
    "a.resize(3,3)\n",
    "a"
   ]
  },
  {
   "cell_type": "code",
   "execution_count": 60,
   "metadata": {},
   "outputs": [
    {
     "data": {
      "text/plain": [
       "5"
      ]
     },
     "execution_count": 60,
     "metadata": {},
     "output_type": "execute_result"
    }
   ],
   "source": [
    "a[1, 2]"
   ]
  },
  {
   "cell_type": "markdown",
   "metadata": {},
   "source": [
    "### Shape Manipulation"
   ]
  },
  {
   "cell_type": "code",
   "execution_count": 70,
   "metadata": {},
   "outputs": [
    {
     "data": {
      "text/plain": [
       "array([ 0,  1,  2,  3,  4,  5,  6,  7,  8,  9, 10, 11])"
      ]
     },
     "execution_count": 70,
     "metadata": {},
     "output_type": "execute_result"
    }
   ],
   "source": [
    "a = np.arange(12)"
   ]
  },
  {
   "cell_type": "code",
   "execution_count": 71,
   "metadata": {},
   "outputs": [
    {
     "data": {
      "text/plain": [
       "array([[ 0,  1,  2,  3],\n",
       "       [ 4,  5,  6,  7],\n",
       "       [ 8,  9, 10, 11]])"
      ]
     },
     "execution_count": 71,
     "metadata": {},
     "output_type": "execute_result"
    }
   ],
   "source": [
    "#reshape returns the array with a modified shape\n",
    "a.reshape(3, 4)"
   ]
  },
  {
   "cell_type": "code",
   "execution_count": 73,
   "metadata": {},
   "outputs": [
    {
     "data": {
      "text/plain": [
       "array([[ 0,  1,  2,  3],\n",
       "       [ 4,  5,  6,  7],\n",
       "       [ 8,  9, 10, 11]])"
      ]
     },
     "execution_count": 73,
     "metadata": {},
     "output_type": "execute_result"
    }
   ],
   "source": [
    "#resize modifies the shape of the array itself\n",
    "a.resize(3, 4)\n",
    "a"
   ]
  },
  {
   "cell_type": "code",
   "execution_count": 75,
   "metadata": {},
   "outputs": [
    {
     "data": {
      "text/plain": [
       "array([ 0,  1,  2,  3,  4,  5,  6,  7,  8,  9, 10, 11])"
      ]
     },
     "execution_count": 75,
     "metadata": {},
     "output_type": "execute_result"
    }
   ],
   "source": [
    "#ravel returns a flattened array\n",
    "a.ravel()"
   ]
  },
  {
   "cell_type": "code",
   "execution_count": 77,
   "metadata": {},
   "outputs": [
    {
     "data": {
      "text/plain": [
       "array([[ 0,  4,  8],\n",
       "       [ 1,  5,  9],\n",
       "       [ 2,  6, 10],\n",
       "       [ 3,  7, 11]])"
      ]
     },
     "execution_count": 77,
     "metadata": {},
     "output_type": "execute_result"
    }
   ],
   "source": [
    "a.T"
   ]
  }
 ],
 "metadata": {
  "kernelspec": {
   "display_name": "Python 3",
   "language": "python",
   "name": "python3"
  },
  "language_info": {
   "codemirror_mode": {
    "name": "ipython",
    "version": 3
   },
   "file_extension": ".py",
   "mimetype": "text/x-python",
   "name": "python",
   "nbconvert_exporter": "python",
   "pygments_lexer": "ipython3",
   "version": "3.7.4"
  }
 },
 "nbformat": 4,
 "nbformat_minor": 2
}
